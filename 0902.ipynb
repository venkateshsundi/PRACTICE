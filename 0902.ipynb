{
  "nbformat": 4,
  "nbformat_minor": 0,
  "metadata": {
    "colab": {
      "name": "0902.ipynb",
      "version": "0.3.2",
      "provenance": [],
      "collapsed_sections": [
        "Oui56RMyStdq",
        "rFBLCC3nO9cf",
        "DjEiklyIQh0h",
        "6teq35rUVcnF"
      ],
      "include_colab_link": true
    },
    "kernelspec": {
      "name": "python3",
      "display_name": "Python 3"
    },
    "accelerator": "GPU"
  },
  "cells": [
    {
      "cell_type": "markdown",
      "metadata": {
        "id": "view-in-github",
        "colab_type": "text"
      },
      "source": [
        "<a href=\"https://colab.research.google.com/github/venkateshsundi/PRACTICE/blob/master/0902.ipynb\" target=\"_parent\"><img src=\"https://colab.research.google.com/assets/colab-badge.svg\" alt=\"Open In Colab\"/></a>"
      ]
    },
    {
      "metadata": {
        "id": "Oui56RMyStdq",
        "colab_type": "text"
      },
      "cell_type": "markdown",
      "source": [
        "# cpu info"
      ]
    },
    {
      "metadata": {
        "id": "vk2rYEWxSLHu",
        "colab_type": "code",
        "outputId": "d0139ffd-c4df-48b5-a5d5-0a17d066055e",
        "colab": {
          "base_uri": "https://localhost:8080/",
          "height": 1737
        }
      },
      "cell_type": "code",
      "source": [
        "!ls\n",
        "!cat /proc/cpuinfo\n",
        "!cat /proc/meminfo"
      ],
      "execution_count": 0,
      "outputs": [
        {
          "output_type": "stream",
          "text": [
            "sample_data\n",
            "processor\t: 0\n",
            "vendor_id\t: GenuineIntel\n",
            "cpu family\t: 6\n",
            "model\t\t: 63\n",
            "model name\t: Intel(R) Xeon(R) CPU @ 2.30GHz\n",
            "stepping\t: 0\n",
            "microcode\t: 0x1\n",
            "cpu MHz\t\t: 2300.000\n",
            "cache size\t: 46080 KB\n",
            "physical id\t: 0\n",
            "siblings\t: 2\n",
            "core id\t\t: 0\n",
            "cpu cores\t: 1\n",
            "apicid\t\t: 0\n",
            "initial apicid\t: 0\n",
            "fpu\t\t: yes\n",
            "fpu_exception\t: yes\n",
            "cpuid level\t: 13\n",
            "wp\t\t: yes\n",
            "flags\t\t: fpu vme de pse tsc msr pae mce cx8 apic sep mtrr pge mca cmov pat pse36 clflush mmx fxsr sse sse2 ss ht syscall nx pdpe1gb rdtscp lm constant_tsc rep_good nopl xtopology nonstop_tsc cpuid tsc_known_freq pni pclmulqdq ssse3 fma cx16 pcid sse4_1 sse4_2 x2apic movbe popcnt aes xsave avx f16c rdrand hypervisor lahf_lm abm invpcid_single pti ssbd ibrs ibpb stibp fsgsbase tsc_adjust bmi1 avx2 smep bmi2 erms invpcid xsaveopt arat arch_capabilities\n",
            "bugs\t\t: cpu_meltdown spectre_v1 spectre_v2 spec_store_bypass l1tf\n",
            "bogomips\t: 4600.00\n",
            "clflush size\t: 64\n",
            "cache_alignment\t: 64\n",
            "address sizes\t: 46 bits physical, 48 bits virtual\n",
            "power management:\n",
            "\n",
            "processor\t: 1\n",
            "vendor_id\t: GenuineIntel\n",
            "cpu family\t: 6\n",
            "model\t\t: 63\n",
            "model name\t: Intel(R) Xeon(R) CPU @ 2.30GHz\n",
            "stepping\t: 0\n",
            "microcode\t: 0x1\n",
            "cpu MHz\t\t: 2300.000\n",
            "cache size\t: 46080 KB\n",
            "physical id\t: 0\n",
            "siblings\t: 2\n",
            "core id\t\t: 0\n",
            "cpu cores\t: 1\n",
            "apicid\t\t: 1\n",
            "initial apicid\t: 1\n",
            "fpu\t\t: yes\n",
            "fpu_exception\t: yes\n",
            "cpuid level\t: 13\n",
            "wp\t\t: yes\n",
            "flags\t\t: fpu vme de pse tsc msr pae mce cx8 apic sep mtrr pge mca cmov pat pse36 clflush mmx fxsr sse sse2 ss ht syscall nx pdpe1gb rdtscp lm constant_tsc rep_good nopl xtopology nonstop_tsc cpuid tsc_known_freq pni pclmulqdq ssse3 fma cx16 pcid sse4_1 sse4_2 x2apic movbe popcnt aes xsave avx f16c rdrand hypervisor lahf_lm abm invpcid_single pti ssbd ibrs ibpb stibp fsgsbase tsc_adjust bmi1 avx2 smep bmi2 erms invpcid xsaveopt arat arch_capabilities\n",
            "bugs\t\t: cpu_meltdown spectre_v1 spectre_v2 spec_store_bypass l1tf\n",
            "bogomips\t: 4600.00\n",
            "clflush size\t: 64\n",
            "cache_alignment\t: 64\n",
            "address sizes\t: 46 bits physical, 48 bits virtual\n",
            "power management:\n",
            "\n",
            "MemTotal:       13335276 kB\n",
            "MemFree:        11058312 kB\n",
            "MemAvailable:   12613920 kB\n",
            "Buffers:           65384 kB\n",
            "Cached:          1653852 kB\n",
            "SwapCached:            0 kB\n",
            "Active:           560472 kB\n",
            "Inactive:        1455620 kB\n",
            "Active(anon):     274952 kB\n",
            "Inactive(anon):      348 kB\n",
            "Active(file):     285520 kB\n",
            "Inactive(file):  1455272 kB\n",
            "Unevictable:           0 kB\n",
            "Mlocked:               0 kB\n",
            "SwapTotal:             0 kB\n",
            "SwapFree:              0 kB\n",
            "Dirty:              2376 kB\n",
            "Writeback:             0 kB\n",
            "AnonPages:        296884 kB\n",
            "Mapped:           156444 kB\n",
            "Shmem:               900 kB\n",
            "Slab:             144400 kB\n",
            "SReclaimable:     111852 kB\n",
            "SUnreclaim:        32548 kB\n",
            "KernelStack:        3904 kB\n",
            "PageTables:         4856 kB\n",
            "NFS_Unstable:          0 kB\n",
            "Bounce:                0 kB\n",
            "WritebackTmp:          0 kB\n",
            "CommitLimit:     6667636 kB\n",
            "Committed_AS:    1823800 kB\n",
            "VmallocTotal:   34359738367 kB\n",
            "VmallocUsed:           0 kB\n",
            "VmallocChunk:          0 kB\n",
            "AnonHugePages:         0 kB\n",
            "ShmemHugePages:        0 kB\n",
            "ShmemPmdMapped:        0 kB\n",
            "HugePages_Total:       0\n",
            "HugePages_Free:        0\n",
            "HugePages_Rsvd:        0\n",
            "HugePages_Surp:        0\n",
            "Hugepagesize:       2048 kB\n",
            "DirectMap4k:       86004 kB\n",
            "DirectMap2M:     6205440 kB\n",
            "DirectMap1G:     9437184 kB\n"
          ],
          "name": "stdout"
        }
      ]
    },
    {
      "metadata": {
        "id": "o5rMfC7AOxFp",
        "colab_type": "code",
        "colab": {}
      },
      "cell_type": "code",
      "source": [
        ""
      ],
      "execution_count": 0,
      "outputs": []
    },
    {
      "metadata": {
        "id": "rFBLCC3nO9cf",
        "colab_type": "text"
      },
      "cell_type": "markdown",
      "source": [
        "# dataTypes"
      ]
    },
    {
      "metadata": {
        "id": "8aq6EnsvPA_d",
        "colab_type": "code",
        "colab": {}
      },
      "cell_type": "code",
      "source": [
        "model='Mi A1'\n",
        "screen_size=5.5\n",
        "price=13000"
      ],
      "execution_count": 0,
      "outputs": []
    },
    {
      "metadata": {
        "id": "JHpxVxWfPSxF",
        "colab_type": "code",
        "outputId": "e10c2319-b9e4-4570-fc6c-271168e8601b",
        "colab": {
          "base_uri": "https://localhost:8080/",
          "height": 54
        }
      },
      "cell_type": "code",
      "source": [
        "\n",
        "type(price)"
      ],
      "execution_count": 0,
      "outputs": [
        {
          "output_type": "execute_result",
          "data": {
            "text/plain": [
              "int"
            ]
          },
          "metadata": {
            "tags": []
          },
          "execution_count": 3
        }
      ]
    },
    {
      "metadata": {
        "id": "qOmQjDiWPo_E",
        "colab_type": "code",
        "outputId": "14d61be6-f5a1-46d8-884a-b9343d197275",
        "colab": {
          "base_uri": "https://localhost:8080/",
          "height": 54
        }
      },
      "cell_type": "code",
      "source": [
        "type(model)"
      ],
      "execution_count": 0,
      "outputs": [
        {
          "output_type": "execute_result",
          "data": {
            "text/plain": [
              "str"
            ]
          },
          "metadata": {
            "tags": []
          },
          "execution_count": 4
        }
      ]
    },
    {
      "metadata": {
        "id": "xdjVC-yfPnMN",
        "colab_type": "code",
        "outputId": "5b957bd9-2b60-4f4e-abec-d467ed3da051",
        "colab": {
          "base_uri": "https://localhost:8080/",
          "height": 54
        }
      },
      "cell_type": "code",
      "source": [
        "type(screen_size)"
      ],
      "execution_count": 0,
      "outputs": [
        {
          "output_type": "execute_result",
          "data": {
            "text/plain": [
              "float"
            ]
          },
          "metadata": {
            "tags": []
          },
          "execution_count": 5
        }
      ]
    },
    {
      "metadata": {
        "id": "iXcUWI3UP060",
        "colab_type": "code",
        "outputId": "811e439e-f02b-4c3c-ec7f-ea2ab99c7413",
        "colab": {
          "base_uri": "https://localhost:8080/",
          "height": 71
        }
      },
      "cell_type": "code",
      "source": [
        "print('my phone is',model,'it has screen size of',screen_size,'and price is',price)\n",
        "\n",
        "print(2+3.5)"
      ],
      "execution_count": 0,
      "outputs": [
        {
          "output_type": "stream",
          "text": [
            "my phone is Mi A1 it has screen size of 5.5 and price is 13000\n",
            "5.5\n"
          ],
          "name": "stdout"
        }
      ]
    },
    {
      "metadata": {
        "id": "kCpgp5g0Qd9h",
        "colab_type": "code",
        "outputId": "7042818b-8da7-49de-a441-45d992bd9c6b",
        "colab": {
          "base_uri": "https://localhost:8080/",
          "height": 54
        }
      },
      "cell_type": "code",
      "source": [
        "type(2.5+5.5)"
      ],
      "execution_count": 0,
      "outputs": [
        {
          "output_type": "execute_result",
          "data": {
            "text/plain": [
              "float"
            ]
          },
          "metadata": {
            "tags": []
          },
          "execution_count": 7
        }
      ]
    },
    {
      "metadata": {
        "id": "MWdTEeyZTyng",
        "colab_type": "code",
        "outputId": "86bcfba7-ebee-4432-85c8-794039b90dd6",
        "colab": {
          "base_uri": "https://localhost:8080/",
          "height": 54
        }
      },
      "cell_type": "code",
      "source": [
        "a=2\n",
        "b=4\n",
        "print(a+b,a-b,a*b,a**b,a/b,a//b,b/a,b//a)"
      ],
      "execution_count": 0,
      "outputs": [
        {
          "output_type": "stream",
          "text": [
            "6 -2 8 16 0.5 0 2.0 2\n"
          ],
          "name": "stdout"
        }
      ]
    },
    {
      "metadata": {
        "id": "DjEiklyIQh0h",
        "colab_type": "text"
      },
      "cell_type": "markdown",
      "source": [
        "# if,for,while and function"
      ]
    },
    {
      "metadata": {
        "id": "rw_yi4igVUcd",
        "colab_type": "text"
      },
      "cell_type": "markdown",
      "source": [
        "if "
      ]
    },
    {
      "metadata": {
        "id": "QYcWOq1wQoZ4",
        "colab_type": "code",
        "outputId": "3d47d6b5-4b8d-4a4b-f7e1-0b0de7496e58",
        "colab": {
          "base_uri": "https://localhost:8080/",
          "height": 54
        }
      },
      "cell_type": "code",
      "source": [
        "a='sandi'\n",
        "b='venkatesh'\n",
        "if a == 'sandi':\n",
        "  print('his name is',b)\n",
        "else:\n",
        "  print('his name is',a,b)"
      ],
      "execution_count": 0,
      "outputs": [
        {
          "output_type": "stream",
          "text": [
            "his name is venkatesh\n"
          ],
          "name": "stdout"
        }
      ]
    },
    {
      "metadata": {
        "id": "GXftVmGwVSY9",
        "colab_type": "text"
      },
      "cell_type": "markdown",
      "source": [
        "for "
      ]
    },
    {
      "metadata": {
        "id": "344v3TVwRrEJ",
        "colab_type": "code",
        "outputId": "8b89953a-e341-4d61-899e-377938dbbbd0",
        "colab": {
          "base_uri": "https://localhost:8080/",
          "height": 207
        }
      },
      "cell_type": "code",
      "source": [
        "for i in range(1,11):\n",
        "  print(i,'x',2,'=',i*2)"
      ],
      "execution_count": 0,
      "outputs": [
        {
          "output_type": "stream",
          "text": [
            "1 x 2 = 2\n",
            "2 x 2 = 4\n",
            "3 x 2 = 6\n",
            "4 x 2 = 8\n",
            "5 x 2 = 10\n",
            "6 x 2 = 12\n",
            "7 x 2 = 14\n",
            "8 x 2 = 16\n",
            "9 x 2 = 18\n",
            "10 x 2 = 20\n"
          ],
          "name": "stdout"
        }
      ]
    },
    {
      "metadata": {
        "id": "A6hexv-LVMYe",
        "colab_type": "text"
      },
      "cell_type": "markdown",
      "source": [
        "while loop"
      ]
    },
    {
      "metadata": {
        "id": "6cLT133cUMTf",
        "colab_type": "code",
        "outputId": "891314c3-34bc-4c23-b2ed-cd221ef9182c",
        "colab": {
          "base_uri": "https://localhost:8080/",
          "height": 207
        }
      },
      "cell_type": "code",
      "source": [
        "i=1\n",
        "while i<11 :\n",
        "  print(i,'x',2,'=',i*2)\n",
        "  i+=1"
      ],
      "execution_count": 0,
      "outputs": [
        {
          "output_type": "stream",
          "text": [
            "1 x 2 = 2\n",
            "2 x 2 = 4\n",
            "3 x 2 = 6\n",
            "4 x 2 = 8\n",
            "5 x 2 = 10\n",
            "6 x 2 = 12\n",
            "7 x 2 = 14\n",
            "8 x 2 = 16\n",
            "9 x 2 = 18\n",
            "10 x 2 = 20\n"
          ],
          "name": "stdout"
        }
      ]
    },
    {
      "metadata": {
        "id": "dD4hjJSfVEp1",
        "colab_type": "text"
      },
      "cell_type": "markdown",
      "source": [
        "function "
      ]
    },
    {
      "metadata": {
        "id": "MSdpj_r6Umqn",
        "colab_type": "code",
        "outputId": "5aa28b97-7f63-43f7-fbdb-d7231a0de53f",
        "colab": {
          "base_uri": "https://localhost:8080/",
          "height": 207
        }
      },
      "cell_type": "code",
      "source": [
        "def tableCreater(a):\n",
        "  i=1\n",
        "  while i<11 :\n",
        "    print(i,'x',a,'=',i*a)\n",
        "    i+=1\n",
        "tableCreater(4)"
      ],
      "execution_count": 0,
      "outputs": [
        {
          "output_type": "stream",
          "text": [
            "1 x 4 = 4\n",
            "2 x 4 = 8\n",
            "3 x 4 = 12\n",
            "4 x 4 = 16\n",
            "5 x 4 = 20\n",
            "6 x 4 = 24\n",
            "7 x 4 = 28\n",
            "8 x 4 = 32\n",
            "9 x 4 = 36\n",
            "10 x 4 = 40\n"
          ],
          "name": "stdout"
        }
      ]
    },
    {
      "metadata": {
        "id": "6teq35rUVcnF",
        "colab_type": "text"
      },
      "cell_type": "markdown",
      "source": [
        "# list, tuple,set and dictionary"
      ]
    },
    {
      "metadata": {
        "id": "2UycOBJbScTw",
        "colab_type": "code",
        "outputId": "cea1ce64-cf55-41b2-e6ab-5fa6db1004bc",
        "colab": {
          "base_uri": "https://localhost:8080/",
          "height": 34
        }
      },
      "cell_type": "code",
      "source": [
        "l=list(range(1,11))\n",
        "print(l)\n"
      ],
      "execution_count": 0,
      "outputs": [
        {
          "output_type": "stream",
          "text": [
            "[1, 2, 3, 4, 5, 6, 7, 8, 9, 10]\n"
          ],
          "name": "stdout"
        }
      ]
    },
    {
      "metadata": {
        "id": "po0d-nrjTBNo",
        "colab_type": "code",
        "outputId": "d79f9900-499d-4532-e794-5d477b0a4426",
        "colab": {
          "base_uri": "https://localhost:8080/",
          "height": 34
        }
      },
      "cell_type": "code",
      "source": [
        "type(l)"
      ],
      "execution_count": 0,
      "outputs": [
        {
          "output_type": "execute_result",
          "data": {
            "text/plain": [
              "list"
            ]
          },
          "metadata": {
            "tags": []
          },
          "execution_count": 14
        }
      ]
    },
    {
      "metadata": {
        "id": "aGduG907VzD9",
        "colab_type": "code",
        "outputId": "a800d461-93bd-4eec-ef51-6ff11a6988b0",
        "colab": {
          "base_uri": "https://localhost:8080/",
          "height": 350
        }
      },
      "cell_type": "code",
      "source": [
        "myPhone=[model,screen_size,price]\n",
        "type(myPhone)\n",
        "print(myPhone)\n",
        "for item in myPhone:\n",
        "  print(item)\n",
        "  for letter in item:\n",
        "    print(letter)"
      ],
      "execution_count": 0,
      "outputs": [
        {
          "output_type": "stream",
          "text": [
            "['Mi A1', 5.5, 13000]\n",
            "Mi A1\n",
            "M\n",
            "i\n",
            " \n",
            "A\n",
            "1\n",
            "5.5\n"
          ],
          "name": "stdout"
        },
        {
          "output_type": "error",
          "ename": "TypeError",
          "evalue": "ignored",
          "traceback": [
            "\u001b[0;31m---------------------------------------------------------------------------\u001b[0m",
            "\u001b[0;31mTypeError\u001b[0m                                 Traceback (most recent call last)",
            "\u001b[0;32m<ipython-input-15-a26180e718bf>\u001b[0m in \u001b[0;36m<module>\u001b[0;34m()\u001b[0m\n\u001b[1;32m      4\u001b[0m \u001b[0;32mfor\u001b[0m \u001b[0mitem\u001b[0m \u001b[0;32min\u001b[0m \u001b[0mmyPhone\u001b[0m\u001b[0;34m:\u001b[0m\u001b[0;34m\u001b[0m\u001b[0;34m\u001b[0m\u001b[0m\n\u001b[1;32m      5\u001b[0m   \u001b[0mprint\u001b[0m\u001b[0;34m(\u001b[0m\u001b[0mitem\u001b[0m\u001b[0;34m)\u001b[0m\u001b[0;34m\u001b[0m\u001b[0;34m\u001b[0m\u001b[0m\n\u001b[0;32m----> 6\u001b[0;31m   \u001b[0;32mfor\u001b[0m \u001b[0mletter\u001b[0m \u001b[0;32min\u001b[0m \u001b[0mitem\u001b[0m\u001b[0;34m:\u001b[0m\u001b[0;34m\u001b[0m\u001b[0;34m\u001b[0m\u001b[0m\n\u001b[0m\u001b[1;32m      7\u001b[0m     \u001b[0mprint\u001b[0m\u001b[0;34m(\u001b[0m\u001b[0mletter\u001b[0m\u001b[0;34m)\u001b[0m\u001b[0;34m\u001b[0m\u001b[0;34m\u001b[0m\u001b[0m\n",
            "\u001b[0;31mTypeError\u001b[0m: 'float' object is not iterable"
          ]
        }
      ]
    },
    {
      "metadata": {
        "id": "fIyKNFxEWif0",
        "colab_type": "code",
        "colab": {}
      },
      "cell_type": "code",
      "source": [
        "print(myPhone[:])\n",
        "print(myPhone[:2])\n",
        "print(myPhone[2:])\n"
      ],
      "execution_count": 0,
      "outputs": []
    },
    {
      "metadata": {
        "id": "Sb58AxJ_Wxm8",
        "colab_type": "code",
        "colab": {}
      },
      "cell_type": "code",
      "source": [
        "len(myPhone)"
      ],
      "execution_count": 0,
      "outputs": []
    },
    {
      "metadata": {
        "id": "mI87iew9XwkD",
        "colab_type": "code",
        "colab": {}
      },
      "cell_type": "code",
      "source": [
        "my_phone2=myPhone\n",
        "print(my_phone2)"
      ],
      "execution_count": 0,
      "outputs": []
    },
    {
      "metadata": {
        "id": "DMHUYYdnX51D",
        "colab_type": "code",
        "colab": {}
      },
      "cell_type": "code",
      "source": [
        "myPhone[2]=18000"
      ],
      "execution_count": 0,
      "outputs": []
    },
    {
      "metadata": {
        "id": "aQ5fbcnqYBMb",
        "colab_type": "code",
        "colab": {}
      },
      "cell_type": "code",
      "source": [
        "print(myPhone)\n",
        "print(my_phone2)"
      ],
      "execution_count": 0,
      "outputs": []
    },
    {
      "metadata": {
        "id": "xN2FlrmSZbAo",
        "colab_type": "code",
        "colab": {}
      },
      "cell_type": "code",
      "source": [
        "myPhone.append(25000)\n",
        "print(myPhone)\n"
      ],
      "execution_count": 0,
      "outputs": []
    },
    {
      "metadata": {
        "id": "yTBkuvtMdoPX",
        "colab_type": "code",
        "colab": {}
      },
      "cell_type": "code",
      "source": [
        "import time"
      ],
      "execution_count": 0,
      "outputs": []
    },
    {
      "metadata": {
        "id": "TvrywtTvZe6A",
        "colab_type": "code",
        "colab": {}
      },
      "cell_type": "code",
      "source": [
        "print(my_phone2)\n",
        "myPhone.remove(25000)\n",
        "print(my_phone2)"
      ],
      "execution_count": 0,
      "outputs": []
    },
    {
      "metadata": {
        "id": "4acc1pDfZxlf",
        "colab_type": "code",
        "colab": {}
      },
      "cell_type": "code",
      "source": [
        "myTuple=tuple(myPhone)\n",
        "print(myTuple)\n",
        "myTuple2=myTuple\n",
        "print(myTuple2)\n",
        "type(myTuple2)\n",
        "myTuple[2]=20000"
      ],
      "execution_count": 0,
      "outputs": []
    },
    {
      "metadata": {
        "id": "LX0FheWhakXg",
        "colab_type": "code",
        "colab": {}
      },
      "cell_type": "code",
      "source": [
        "import time\n",
        "print(time.time())"
      ],
      "execution_count": 0,
      "outputs": []
    },
    {
      "metadata": {
        "id": "0tGKhzfOa4C-",
        "colab_type": "code",
        "colab": {}
      },
      "cell_type": "code",
      "source": [
        "t1=time.time()\n",
        "l=list(range(1000))\n",
        "for item in l:\n",
        "  if item%2 == 0:\n",
        "    print(item,'is even number')\n",
        "  else:\n",
        "    print(item,'is odd number')\n",
        "t2=time.time()\n",
        "print(t2-t1)"
      ],
      "execution_count": 0,
      "outputs": []
    },
    {
      "metadata": {
        "id": "62hXXQVkaHR4",
        "colab_type": "code",
        "colab": {}
      },
      "cell_type": "code",
      "source": [
        "t1=time.time()\n",
        "l=tuple(range(1000))\n",
        "for item in l:\n",
        "  if item%2 == 0:\n",
        "    print(item,'is even number')\n",
        "  else:\n",
        "    print(item,'is odd number')\n",
        "t2=time.time()\n",
        "print(t2-t1)"
      ],
      "execution_count": 0,
      "outputs": []
    },
    {
      "metadata": {
        "id": "sBYePj-bcocY",
        "colab_type": "code",
        "colab": {}
      },
      "cell_type": "code",
      "source": [
        "t1=time.time()\n",
        "total=0\n",
        "l=list(range(100000))\n",
        "for item in l:\n",
        "  total+=item\n",
        "t2=time.time()\n",
        "print(total)\n",
        "print(t2-t1)"
      ],
      "execution_count": 0,
      "outputs": []
    },
    {
      "metadata": {
        "id": "FCz5UE-hc7jN",
        "colab_type": "code",
        "colab": {}
      },
      "cell_type": "code",
      "source": [
        "t1=time.time()\n",
        "total=0\n",
        "l=tuple(range(100000))\n",
        "for item in l:\n",
        "  total+=item\n",
        "t2=time.time()\n",
        "print(total)\n",
        "print(t2-t1)"
      ],
      "execution_count": 0,
      "outputs": []
    },
    {
      "metadata": {
        "id": "ptQ6xGlHdBMT",
        "colab_type": "code",
        "colab": {}
      },
      "cell_type": "code",
      "source": [
        "s=set(range(4))\n",
        "type(s)\n",
        "for item in s:\n",
        "  print(s)\n",
        "  print(item)"
      ],
      "execution_count": 0,
      "outputs": []
    },
    {
      "metadata": {
        "id": "2NmSjGWhdT0f",
        "colab_type": "code",
        "colab": {}
      },
      "cell_type": "code",
      "source": [
        "t1=time.time()\n",
        "total=0\n",
        "l=set(range(100000))\n",
        "for item in l:\n",
        "  total+=item\n",
        "t2=time.time()\n",
        "print(total)\n",
        "print(t2-t1)"
      ],
      "execution_count": 0,
      "outputs": []
    },
    {
      "metadata": {
        "id": "ufkifAA8eUEb",
        "colab_type": "code",
        "colab": {}
      },
      "cell_type": "code",
      "source": [
        "set={10,3,2,5,'s',3}\n",
        "for items in set:\n",
        "  print(items)\n",
        "setNew=set\n",
        "print(setNew)"
      ],
      "execution_count": 0,
      "outputs": []
    },
    {
      "metadata": {
        "id": "-ZlJj8Bze0D6",
        "colab_type": "code",
        "colab": {}
      },
      "cell_type": "code",
      "source": [
        "set.append('v')\n",
        "print(set)\n",
        "print(setNew)"
      ],
      "execution_count": 0,
      "outputs": []
    },
    {
      "metadata": {
        "id": "siCq3OWZfedw",
        "colab_type": "code",
        "colab": {}
      },
      "cell_type": "code",
      "source": [
        "import math\n",
        "ans=math.sqrt(4)\n",
        "print(ans)"
      ],
      "execution_count": 0,
      "outputs": []
    },
    {
      "metadata": {
        "id": "gbxo-OJPfNUS",
        "colab_type": "code",
        "colab": {}
      },
      "cell_type": "code",
      "source": [
        "from math import factorial\n",
        "factorial(4)"
      ],
      "execution_count": 0,
      "outputs": []
    },
    {
      "metadata": {
        "id": "aCjzmzd_f4np",
        "colab_type": "text"
      },
      "cell_type": "markdown",
      "source": [
        "# fileHandling"
      ]
    },
    {
      "metadata": {
        "id": "z28qp0I_mur4",
        "colab_type": "text"
      },
      "cell_type": "markdown",
      "source": [
        "# New Section"
      ]
    },
    {
      "metadata": {
        "id": "pZoAy0BefrFA",
        "colab_type": "code",
        "colab": {}
      },
      "cell_type": "code",
      "source": [
        "!wget EMTL.xlsx"
      ],
      "execution_count": 0,
      "outputs": []
    },
    {
      "metadata": {
        "id": "-h86vZFIgYsQ",
        "colab_type": "code",
        "colab": {}
      },
      "cell_type": "code",
      "source": [
        "!ls \n"
      ],
      "execution_count": 0,
      "outputs": []
    },
    {
      "metadata": {
        "id": "pvt2TVeugc73",
        "colab_type": "code",
        "colab": {}
      },
      "cell_type": "code",
      "source": [
        "file=open('mnist_test.csv','r')\n",
        "line=file.readline()\n",
        "fil=file.read()\n",
        "\n"
      ],
      "execution_count": 0,
      "outputs": []
    },
    {
      "metadata": {
        "id": "NY-WEql4knHi",
        "colab_type": "code",
        "colab": {}
      },
      "cell_type": "code",
      "source": [
        "with open('C2ImportCalEventSample.csv','r') as file:\n",
        "  print(file.readline())"
      ],
      "execution_count": 0,
      "outputs": []
    },
    {
      "metadata": {
        "id": "yNKRsyyFk70B",
        "colab_type": "code",
        "colab": {}
      },
      "cell_type": "code",
      "source": [
        "with open('C2ImportCalEventSample.csv','r') as file:\n",
        "  print(file.read())"
      ],
      "execution_count": 0,
      "outputs": []
    },
    {
      "metadata": {
        "id": "Ae_BsmZWk-ii",
        "colab_type": "code",
        "colab": {}
      },
      "cell_type": "code",
      "source": [
        "with open('C2ImportCalEventSample.csv','r') as file:\n",
        "  for line in file:\n",
        "    for word in line:\n",
        "        print(word)\n",
        "    print('++++++++++++++++++++++++++++++++++')"
      ],
      "execution_count": 0,
      "outputs": []
    },
    {
      "metadata": {
        "id": "FXp9ynOnlVEo",
        "colab_type": "code",
        "colab": {}
      },
      "cell_type": "code",
      "source": [
        "with open('myText.txt','w') as file:\n",
        "  file.write('this is my file')\n",
        "\n",
        "  "
      ],
      "execution_count": 0,
      "outputs": []
    },
    {
      "metadata": {
        "id": "cggFBAuQlx-O",
        "colab_type": "code",
        "colab": {}
      },
      "cell_type": "code",
      "source": [
        "with open('myText.txt','r') as file:\n",
        "  for word in file:\n",
        "    for letter in word:\n",
        "      print(letter)"
      ],
      "execution_count": 0,
      "outputs": []
    },
    {
      "metadata": {
        "id": "S8Pw-LJHmNTQ",
        "colab_type": "code",
        "colab": {}
      },
      "cell_type": "code",
      "source": [
        "!cat myText.txt"
      ],
      "execution_count": 0,
      "outputs": []
    },
    {
      "metadata": {
        "id": "87R8GiX7mXGo",
        "colab_type": "code",
        "colab": {}
      },
      "cell_type": "code",
      "source": [
        "with open('myText.txt','w') as file:\n",
        "  file.write('this is my file')\n",
        "  file.write('this is my file') \n",
        "  file.write('this is my file')"
      ],
      "execution_count": 0,
      "outputs": []
    },
    {
      "metadata": {
        "id": "Wp49Pa9ZmZy_",
        "colab_type": "code",
        "colab": {}
      },
      "cell_type": "code",
      "source": [
        "!cat myText.txt"
      ],
      "execution_count": 0,
      "outputs": []
    }
  ]
}